{
  "nbformat": 4,
  "nbformat_minor": 0,
  "metadata": {
    "colab": {
      "name": "BasicCNN.ipynb",
      "provenance": []
    },
    "kernelspec": {
      "name": "python3",
      "display_name": "Python 3"
    }
  },
  "cells": [
    {
      "cell_type": "markdown",
      "metadata": {
        "id": "OWCvnFDWofpw",
        "colab_type": "text"
      },
      "source": [
        "**Taking care of the basic Imports.**"
      ]
    },
    {
      "cell_type": "code",
      "metadata": {
        "id": "8HTh94uDnA-R",
        "colab_type": "code",
        "colab": {}
      },
      "source": [
        "from keras.preprocessing.image import ImageDataGenerator\n",
        "from keras.models import Sequential\n",
        "from keras.layers import Convolution2D\n",
        "from keras.layers import MaxPooling2D\n",
        "from keras.layers import Flatten\n",
        "from keras.layers import Dense\n",
        "from keras.models import load_model"
      ],
      "execution_count": 0,
      "outputs": []
    },
    {
      "cell_type": "markdown",
      "metadata": {
        "id": "bq8i1La8o2of",
        "colab_type": "text"
      },
      "source": [
        "**We start by building the Neural Network.**"
      ]
    },
    {
      "cell_type": "markdown",
      "metadata": {
        "id": "a6yaL8Kvo_t3",
        "colab_type": "text"
      },
      "source": [
        "**Initializing the Neural Network**"
      ]
    },
    {
      "cell_type": "code",
      "metadata": {
        "id": "6-AUAuU8pEbv",
        "colab_type": "code",
        "colab": {}
      },
      "source": [
        "classifier = Sequential()"
      ],
      "execution_count": 0,
      "outputs": []
    },
    {
      "cell_type": "markdown",
      "metadata": {
        "id": "-5KFk45DpXU_",
        "colab_type": "text"
      },
      "source": [
        " **Convolution Layer (Step 1)**\n",
        " 1. Number of filters = Number of feature maps (64)\n",
        " 2. Numbe of rows, columns used to determine filter dimension. (3,3)\n",
        " 3. Input Shape = (channel, row, column) channel = 1 for Bw and 3 for RGB. Tensorflow has reversed input shape (row, column, channel)"
      ]
    },
    {
      "cell_type": "code",
      "metadata": {
        "id": "yLf7piJlpb_7",
        "colab_type": "code",
        "colab": {}
      },
      "source": [
        "classifier.add(Convolution2D(\n",
        "    32, (3, 3), input_shape=(64, 64, 3), activation='relu'))"
      ],
      "execution_count": 0,
      "outputs": []
    },
    {
      "cell_type": "markdown",
      "metadata": {
        "id": "CxmV6P47qGvW",
        "colab_type": "text"
      },
      "source": [
        "**Pooling Layer (Step 2)**"
      ]
    },
    {
      "cell_type": "code",
      "metadata": {
        "id": "dZ2qRAm1qLie",
        "colab_type": "code",
        "colab": {}
      },
      "source": [
        "classifier.add(MaxPooling2D(pool_size=(2, 2)))"
      ],
      "execution_count": 0,
      "outputs": []
    },
    {
      "cell_type": "markdown",
      "metadata": {
        "id": "E-8k9r8lqXMg",
        "colab_type": "text"
      },
      "source": [
        "**Flatenning (Step 3)**"
      ]
    },
    {
      "cell_type": "code",
      "metadata": {
        "id": "nBvDJB-kqbAw",
        "colab_type": "code",
        "colab": {}
      },
      "source": [
        "classifier.add(Flatten())"
      ],
      "execution_count": 0,
      "outputs": []
    },
    {
      "cell_type": "markdown",
      "metadata": {
        "id": "T38UldiAqeW0",
        "colab_type": "text"
      },
      "source": [
        "**Fully Connected Layers (Step 4)**"
      ]
    },
    {
      "cell_type": "code",
      "metadata": {
        "id": "TBHoBnvFqo7F",
        "colab_type": "code",
        "colab": {}
      },
      "source": [
        "classifier.add(Dense(128, bias_initializer='uniform', activation='relu'))\n",
        "classifier.add(Dense(1, bias_initializer='uniform', activation='sigmoid'))"
      ],
      "execution_count": 0,
      "outputs": []
    },
    {
      "cell_type": "markdown",
      "metadata": {
        "id": "nDbjty8lqt81",
        "colab_type": "text"
      },
      "source": [
        "**Compiling the Network**"
      ]
    },
    {
      "cell_type": "code",
      "metadata": {
        "id": "fGrWlV_OqzX9",
        "colab_type": "code",
        "colab": {}
      },
      "source": [
        "classifier.compile(\n",
        "    optimizer='Adam', loss='binary_crossentropy', metrics=['accuracy'])"
      ],
      "execution_count": 0,
      "outputs": []
    },
    {
      "cell_type": "markdown",
      "metadata": {
        "id": "ZR0IrbrAsDx7",
        "colab_type": "text"
      },
      "source": [
        "**Image Preprocessing**"
      ]
    },
    {
      "cell_type": "code",
      "metadata": {
        "id": "puZDNpnGsNa8",
        "colab_type": "code",
        "colab": {}
      },
      "source": [
        "train_datagen = ImageDataGenerator(\n",
        "    rescale=1./255,\n",
        "    shear_range=0.2,\n",
        "    zoom_range=0.2,\n",
        "    horizontal_flip=True)\n",
        "\n",
        "test_datagen = ImageDataGenerator(rescale=1./255)"
      ],
      "execution_count": 0,
      "outputs": []
    },
    {
      "cell_type": "code",
      "metadata": {
        "id": "Yk-LicGmsPBI",
        "colab_type": "code",
        "outputId": "c1241476-7f79-4cb8-df76-35b9c9287ad1",
        "colab": {
          "base_uri": "https://localhost:8080/",
          "height": 34
        }
      },
      "source": [
        "train_generator = train_datagen.flow_from_directory(\n",
        "    '/content/drive/My Drive/Data Sets/CNN/BasicCNN/dataset/training_set',\n",
        "    target_size=(64, 64),\n",
        "    batch_size=32,\n",
        "    class_mode='binary')"
      ],
      "execution_count": 0,
      "outputs": [
        {
          "output_type": "stream",
          "text": [
            "Found 8008 images belonging to 2 classes.\n"
          ],
          "name": "stdout"
        }
      ]
    },
    {
      "cell_type": "code",
      "metadata": {
        "id": "9oEXCpYosgZM",
        "colab_type": "code",
        "outputId": "50e72684-13f8-4b14-aa7f-0cc16e19533e",
        "colab": {
          "base_uri": "https://localhost:8080/",
          "height": 34
        }
      },
      "source": [
        "validation_generator = test_datagen.flow_from_directory(\n",
        "    '/content/drive/My Drive/Data Sets/CNN/BasicCNN/dataset/test_set',\n",
        "    target_size=(64, 64),\n",
        "    batch_size=32,\n",
        "    class_mode='binary')"
      ],
      "execution_count": 0,
      "outputs": [
        {
          "output_type": "stream",
          "text": [
            "Found 2008 images belonging to 2 classes.\n"
          ],
          "name": "stdout"
        }
      ]
    },
    {
      "cell_type": "markdown",
      "metadata": {
        "id": "-ac-h-27sx7q",
        "colab_type": "text"
      },
      "source": [
        "**Fitting the Model**"
      ]
    },
    {
      "cell_type": "code",
      "metadata": {
        "id": "nornmUhns3tO",
        "colab_type": "code",
        "outputId": "2653d9e5-7549-4587-a007-4ede738e2029",
        "colab": {
          "base_uri": "https://localhost:8080/",
          "height": 50
        }
      },
      "source": [
        "classifier.fit(\n",
        "    train_generator,\n",
        "    steps_per_epoch=8008,\n",
        "    epochs=25,\n",
        "    validation_data=validation_generator,\n",
        "    validation_steps=2008)"
      ],
      "execution_count": 0,
      "outputs": [
        {
          "output_type": "stream",
          "text": [
            "Epoch 1/25\n",
            "   3/8008 [..............................] - ETA: 60:46:55 - loss: 0.7800 - accuracy: 0.5521"
          ],
          "name": "stdout"
        }
      ]
    },
    {
      "cell_type": "markdown",
      "metadata": {
        "id": "EqgmOCA6tg2E",
        "colab_type": "text"
      },
      "source": [
        "**Saving the Model for future reference.**"
      ]
    },
    {
      "cell_type": "code",
      "metadata": {
        "id": "0x5AiYQktrt8",
        "colab_type": "code",
        "colab": {}
      },
      "source": [
        "classifier.save('Basic_CNN.h5')"
      ],
      "execution_count": 0,
      "outputs": []
    }
  ]
}