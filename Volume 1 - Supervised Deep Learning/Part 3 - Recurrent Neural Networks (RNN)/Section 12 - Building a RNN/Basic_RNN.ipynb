{
  "nbformat": 4,
  "nbformat_minor": 0,
  "metadata": {
    "colab": {
      "name": "Basic RNN.ipynb",
      "provenance": []
    },
    "kernelspec": {
      "name": "python3",
      "display_name": "Python 3"
    },
    "accelerator": "GPU"
  },
  "cells": [
    {
      "cell_type": "code",
      "metadata": {
        "id": "0sZ6WDIwuz7i",
        "colab_type": "code",
        "colab": {
          "base_uri": "https://localhost:8080/",
          "height": 34
        },
        "outputId": "c58fc6f4-4482-491b-b1d8-3e198fbf4949"
      },
      "source": [
        "#imports\n",
        "from keras.layers import Dropout\n",
        "from keras.layers import LSTM\n",
        "from keras.layers import Dense\n",
        "from keras.models import Sequential\n",
        "from sklearn.preprocessing import MinMaxScaler\n",
        "import numpy as np\n",
        "import pandas as pd\n",
        "import matplotlib.pyplot as plt"
      ],
      "execution_count": 1,
      "outputs": [
        {
          "output_type": "stream",
          "text": [
            "Using TensorFlow backend.\n"
          ],
          "name": "stderr"
        }
      ]
    },
    {
      "cell_type": "code",
      "metadata": {
        "id": "kQFamJiWvNSb",
        "colab_type": "code",
        "colab": {}
      },
      "source": [
        "# Data preprocessing\n",
        "df = pd.read_csv(r'Google_Stock_Price_Train.csv')\n",
        "training_set = df.Open.values\n",
        "training_set = training_set.reshape(-1, 1)"
      ],
      "execution_count": 0,
      "outputs": []
    },
    {
      "cell_type": "code",
      "metadata": {
        "id": "EGRLfENWvR2q",
        "colab_type": "code",
        "colab": {}
      },
      "source": [
        "# Feauture scaling\n",
        "sc = MinMaxScaler(feature_range=(0, 1))\n",
        "scaled_training_set = sc.fit_transform(training_set)"
      ],
      "execution_count": 0,
      "outputs": []
    },
    {
      "cell_type": "code",
      "metadata": {
        "id": "46vmk6Y9vZub",
        "colab_type": "code",
        "colab": {}
      },
      "source": [
        "# Creating Data Structure with 60 time steps and 1 output\n",
        "x_train = []\n",
        "y_train = []\n",
        "\n",
        "for i in range(60, len(scaled_training_set)):\n",
        "    x_train.append(scaled_training_set[i-60:i, 0])\n",
        "    y_train.append(scaled_training_set[i, 0])\n",
        "\n",
        "x_train = np.array(x_train)\n",
        "y_train = np.array(y_train)\n"
      ],
      "execution_count": 0,
      "outputs": []
    },
    {
      "cell_type": "code",
      "metadata": {
        "id": "xmKIdnNnvbTK",
        "colab_type": "code",
        "colab": {}
      },
      "source": [
        "# Reshaping for other indicators\n",
        "x_train = x_train.reshape(x_train.shape[0], x_train.shape[1], 1)\n"
      ],
      "execution_count": 0,
      "outputs": []
    },
    {
      "cell_type": "code",
      "metadata": {
        "id": "_0qpp9lxveMd",
        "colab_type": "code",
        "colab": {}
      },
      "source": [
        "# Initializing the RNN\n",
        "regressor = Sequential()\n",
        "# Building the layers\n",
        "regressor.add(LSTM(units=50, return_sequences=True,\n",
        "                   input_shape=(x_train.shape[1], 1)))\n",
        "regressor.add(Dropout(rate=0.2))\n",
        "regressor.add(LSTM(units=50, return_sequences=True))\n",
        "regressor.add(Dropout(rate=0.2))\n",
        "regressor.add(LSTM(units=50, return_sequences=True))\n",
        "regressor.add(Dropout(rate=0.2))\n",
        "regressor.add(LSTM(units=50, return_sequences=False))\n",
        "regressor.add(Dropout(rate=0.2))\n",
        "regressor.add(Dense(units=1))"
      ],
      "execution_count": 0,
      "outputs": []
    },
    {
      "cell_type": "code",
      "metadata": {
        "id": "-gSZjswMvnda",
        "colab_type": "code",
        "colab": {}
      },
      "source": [
        "# Compiling the RNN\n",
        "regressor.compile(optimizer='adam', loss='mean_squared_error')"
      ],
      "execution_count": 0,
      "outputs": []
    },
    {
      "cell_type": "code",
      "metadata": {
        "id": "eIRgZ9xGvphY",
        "colab_type": "code",
        "colab": {
          "base_uri": "https://localhost:8080/",
          "height": 84
        },
        "outputId": "7a970ff5-9f8e-475d-b2ed-8bccaa20e7bf"
      },
      "source": [
        "#Training and Fitting\n",
        "regressor.fit(x_train, y_train, epochs=100, batch_size=32)"
      ],
      "execution_count": 0,
      "outputs": [
        {
          "output_type": "stream",
          "text": [
            "Epoch 1/100\n",
            "1198/1198 [==============================] - 25s 21ms/step - loss: 0.0424\n",
            "Epoch 2/100\n",
            "  32/1198 [..............................] - ETA: 21s - loss: 0.0052"
          ],
          "name": "stdout"
        }
      ]
    }
  ]
}